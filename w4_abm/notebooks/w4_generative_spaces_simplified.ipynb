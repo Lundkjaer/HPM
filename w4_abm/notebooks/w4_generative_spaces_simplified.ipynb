{
 "cells": [
  {
   "cell_type": "markdown",
   "metadata": {},
   "source": [
    "# Generative Spaces (ABM)\n",
    "\n",
    "In this workshop we will lwarn how to construct a ABM (Agent Based Model) with spatial behaviours, that is capable of configuring the space. This file is a simplified version of Generative Spatial Agent Based Models. For further information, you can find more advanced versions here:\n",
    "\n",
    "* [Object Oriented version](https://github.com/shervinazadi/spatial_computing_workshops/blob/master/notebooks/w3_generative_spaces.ipynb)\n",
    "* [Vectorized version](https://topogenesis.readthedocs.io/notebooks/random_walker)"
   ]
  },
  {
   "cell_type": "markdown",
   "metadata": {},
   "source": [
    "## 0. Initialization\n",
    "\n",
    "### 0.1. Load required libraries"
   ]
  },
  {
   "cell_type": "code",
   "execution_count": 1,
   "metadata": {},
   "outputs": [
    {
     "name": "stdout",
     "output_type": "stream",
     "text": [
      "Requirement already satisfied: pyvista==0.28.1 in c:\\users\\sebas\\.conda\\envs\\scds\\lib\\site-packages (0.28.1)\n",
      "Requirement already satisfied: ipyvtklink in c:\\users\\sebas\\.conda\\envs\\scds\\lib\\site-packages (0.2.1)\n",
      "Requirement already satisfied: vtk in c:\\users\\sebas\\.conda\\envs\\scds\\lib\\site-packages (from pyvista==0.28.1) (9.1.0)\n",
      "Requirement already satisfied: pillow in c:\\users\\sebas\\.conda\\envs\\scds\\lib\\site-packages (from pyvista==0.28.1) (8.4.0)\n",
      "Requirement already satisfied: transforms3d==0.3.1 in c:\\users\\sebas\\.conda\\envs\\scds\\lib\\site-packages (from pyvista==0.28.1) (0.3.1)\n",
      "Requirement already satisfied: imageio in c:\\users\\sebas\\.conda\\envs\\scds\\lib\\site-packages (from pyvista==0.28.1) (2.10.3)\n",
      "Requirement already satisfied: meshio<5.0,>=4.0.3 in c:\\users\\sebas\\.conda\\envs\\scds\\lib\\site-packages (from pyvista==0.28.1) (4.4.6)\n",
      "Requirement already satisfied: scooby>=0.5.1 in c:\\users\\sebas\\.conda\\envs\\scds\\lib\\site-packages (from pyvista==0.28.1) (0.5.7)\n",
      "Requirement already satisfied: numpy in c:\\users\\sebas\\.conda\\envs\\scds\\lib\\site-packages (from pyvista==0.28.1) (1.21.4)\n",
      "Requirement already satisfied: appdirs in c:\\users\\sebas\\.conda\\envs\\scds\\lib\\site-packages (from pyvista==0.28.1) (1.4.4)\n",
      "Requirement already satisfied: ipyevents>=0.8.0 in c:\\users\\sebas\\.conda\\envs\\scds\\lib\\site-packages (from ipyvtklink) (2.0.1)\n",
      "Requirement already satisfied: ipywidgets in c:\\users\\sebas\\.conda\\envs\\scds\\lib\\site-packages (from ipyvtklink) (7.6.5)\n",
      "Requirement already satisfied: ipycanvas>=0.5.0 in c:\\users\\sebas\\.conda\\envs\\scds\\lib\\site-packages (from ipyvtklink) (0.9.1)\n",
      "Requirement already satisfied: widgetsnbextension~=3.5.0 in c:\\users\\sebas\\.conda\\envs\\scds\\lib\\site-packages (from ipywidgets->ipyvtklink) (3.5.2)\n",
      "Requirement already satisfied: traitlets>=4.3.1 in c:\\users\\sebas\\.conda\\envs\\scds\\lib\\site-packages (from ipywidgets->ipyvtklink) (5.1.1)\n",
      "Requirement already satisfied: nbformat>=4.2.0 in c:\\users\\sebas\\.conda\\envs\\scds\\lib\\site-packages (from ipywidgets->ipyvtklink) (5.1.3)\n",
      "Requirement already satisfied: jupyterlab-widgets>=1.0.0 in c:\\users\\sebas\\.conda\\envs\\scds\\lib\\site-packages (from ipywidgets->ipyvtklink) (1.0.2)\n",
      "Requirement already satisfied: ipykernel>=4.5.1 in c:\\users\\sebas\\.conda\\envs\\scds\\lib\\site-packages (from ipywidgets->ipyvtklink) (6.5.0)\n",
      "Requirement already satisfied: ipython-genutils~=0.2.0 in c:\\users\\sebas\\.conda\\envs\\scds\\lib\\site-packages (from ipywidgets->ipyvtklink) (0.2.0)\n",
      "Requirement already satisfied: ipython>=4.0.0 in c:\\users\\sebas\\.conda\\envs\\scds\\lib\\site-packages (from ipywidgets->ipyvtklink) (7.29.0)\n",
      "Requirement already satisfied: wslink>=1.0.4 in c:\\users\\sebas\\.conda\\envs\\scds\\lib\\site-packages (from vtk->pyvista==0.28.1) (1.1.0)\n",
      "Requirement already satisfied: matplotlib>=2.0.0 in c:\\users\\sebas\\.conda\\envs\\scds\\lib\\site-packages (from vtk->pyvista==0.28.1) (3.4.3)\n",
      "Requirement already satisfied: debugpy<2.0,>=1.0.0 in c:\\users\\sebas\\.conda\\envs\\scds\\lib\\site-packages (from ipykernel>=4.5.1->ipywidgets->ipyvtklink) (1.5.1)\n",
      "Requirement already satisfied: jupyter-client<8.0 in c:\\users\\sebas\\.conda\\envs\\scds\\lib\\site-packages (from ipykernel>=4.5.1->ipywidgets->ipyvtklink) (7.0.6)\n",
      "Requirement already satisfied: matplotlib-inline<0.2.0,>=0.1.0 in c:\\users\\sebas\\.conda\\envs\\scds\\lib\\site-packages (from ipykernel>=4.5.1->ipywidgets->ipyvtklink) (0.1.3)\n",
      "Requirement already satisfied: tornado<7.0,>=4.2 in c:\\users\\sebas\\.conda\\envs\\scds\\lib\\site-packages (from ipykernel>=4.5.1->ipywidgets->ipyvtklink) (6.1)\n",
      "Requirement already satisfied: backcall in c:\\users\\sebas\\.conda\\envs\\scds\\lib\\site-packages (from ipython>=4.0.0->ipywidgets->ipyvtklink) (0.2.0)\n",
      "Requirement already satisfied: pickleshare in c:\\users\\sebas\\.conda\\envs\\scds\\lib\\site-packages (from ipython>=4.0.0->ipywidgets->ipyvtklink) (0.7.5)\n",
      "Requirement already satisfied: pygments in c:\\users\\sebas\\.conda\\envs\\scds\\lib\\site-packages (from ipython>=4.0.0->ipywidgets->ipyvtklink) (2.10.0)\n",
      "Requirement already satisfied: colorama in c:\\users\\sebas\\.conda\\envs\\scds\\lib\\site-packages (from ipython>=4.0.0->ipywidgets->ipyvtklink) (0.4.4)\n",
      "Requirement already satisfied: jedi>=0.16 in c:\\users\\sebas\\.conda\\envs\\scds\\lib\\site-packages (from ipython>=4.0.0->ipywidgets->ipyvtklink) (0.18.0)\n",
      "Requirement already satisfied: decorator in c:\\users\\sebas\\.conda\\envs\\scds\\lib\\site-packages (from ipython>=4.0.0->ipywidgets->ipyvtklink) (5.1.0)\n",
      "Requirement already satisfied: prompt-toolkit!=3.0.0,!=3.0.1,<3.1.0,>=2.0.0 in c:\\users\\sebas\\.conda\\envs\\scds\\lib\\site-packages (from ipython>=4.0.0->ipywidgets->ipyvtklink) (3.0.22)\n",
      "Requirement already satisfied: setuptools>=18.5 in c:\\users\\sebas\\.conda\\envs\\scds\\lib\\site-packages (from ipython>=4.0.0->ipywidgets->ipyvtklink) (58.5.3)\n",
      "Requirement already satisfied: pyparsing>=2.2.1 in c:\\users\\sebas\\.conda\\envs\\scds\\lib\\site-packages (from matplotlib>=2.0.0->vtk->pyvista==0.28.1) (3.0.5)\n",
      "Requirement already satisfied: kiwisolver>=1.0.1 in c:\\users\\sebas\\.conda\\envs\\scds\\lib\\site-packages (from matplotlib>=2.0.0->vtk->pyvista==0.28.1) (1.3.2)\n",
      "Requirement already satisfied: cycler>=0.10 in c:\\users\\sebas\\.conda\\envs\\scds\\lib\\site-packages (from matplotlib>=2.0.0->vtk->pyvista==0.28.1) (0.11.0)\n",
      "Requirement already satisfied: python-dateutil>=2.7 in c:\\users\\sebas\\.conda\\envs\\scds\\lib\\site-packages (from matplotlib>=2.0.0->vtk->pyvista==0.28.1) (2.8.2)\n",
      "Requirement already satisfied: jsonschema!=2.5.0,>=2.4 in c:\\users\\sebas\\.conda\\envs\\scds\\lib\\site-packages (from nbformat>=4.2.0->ipywidgets->ipyvtklink) (4.2.1)\n",
      "Requirement already satisfied: jupyter-core in c:\\users\\sebas\\.conda\\envs\\scds\\lib\\site-packages (from nbformat>=4.2.0->ipywidgets->ipyvtklink) (4.9.1)\n",
      "Requirement already satisfied: notebook>=4.4.1 in c:\\users\\sebas\\.conda\\envs\\scds\\lib\\site-packages (from widgetsnbextension~=3.5.0->ipywidgets->ipyvtklink) (6.4.5)\n",
      "Requirement already satisfied: aiohttp in c:\\users\\sebas\\.conda\\envs\\scds\\lib\\site-packages (from wslink>=1.0.4->vtk->pyvista==0.28.1) (3.8.0)\n",
      "Requirement already satisfied: parso<0.9.0,>=0.8.0 in c:\\users\\sebas\\.conda\\envs\\scds\\lib\\site-packages (from jedi>=0.16->ipython>=4.0.0->ipywidgets->ipyvtklink) (0.8.2)\n",
      "Requirement already satisfied: attrs>=17.4.0 in c:\\users\\sebas\\.conda\\envs\\scds\\lib\\site-packages (from jsonschema!=2.5.0,>=2.4->nbformat>=4.2.0->ipywidgets->ipyvtklink) (21.2.0)\n",
      "Requirement already satisfied: importlib-resources>=1.4.0 in c:\\users\\sebas\\.conda\\envs\\scds\\lib\\site-packages (from jsonschema!=2.5.0,>=2.4->nbformat>=4.2.0->ipywidgets->ipyvtklink) (5.4.0)\n",
      "Requirement already satisfied: pyrsistent!=0.17.0,!=0.17.1,!=0.17.2,>=0.14.0 in c:\\users\\sebas\\.conda\\envs\\scds\\lib\\site-packages (from jsonschema!=2.5.0,>=2.4->nbformat>=4.2.0->ipywidgets->ipyvtklink) (0.18.0)\n",
      "Requirement already satisfied: entrypoints in c:\\users\\sebas\\.conda\\envs\\scds\\lib\\site-packages (from jupyter-client<8.0->ipykernel>=4.5.1->ipywidgets->ipyvtklink) (0.3)\n",
      "Requirement already satisfied: nest-asyncio>=1.5 in c:\\users\\sebas\\.conda\\envs\\scds\\lib\\site-packages (from jupyter-client<8.0->ipykernel>=4.5.1->ipywidgets->ipyvtklink) (1.5.1)\n",
      "Requirement already satisfied: pyzmq>=13 in c:\\users\\sebas\\.conda\\envs\\scds\\lib\\site-packages (from jupyter-client<8.0->ipykernel>=4.5.1->ipywidgets->ipyvtklink) (22.3.0)\n",
      "Requirement already satisfied: pywin32>=1.0 in c:\\users\\sebas\\.conda\\envs\\scds\\lib\\site-packages (from jupyter-core->nbformat>=4.2.0->ipywidgets->ipyvtklink) (302)\n",
      "Requirement already satisfied: argon2-cffi in c:\\users\\sebas\\.conda\\envs\\scds\\lib\\site-packages (from notebook>=4.4.1->widgetsnbextension~=3.5.0->ipywidgets->ipyvtklink) (21.1.0)\n",
      "Requirement already satisfied: nbconvert in c:\\users\\sebas\\.conda\\envs\\scds\\lib\\site-packages (from notebook>=4.4.1->widgetsnbextension~=3.5.0->ipywidgets->ipyvtklink) (6.2.0)\n",
      "Requirement already satisfied: terminado>=0.8.3 in c:\\users\\sebas\\.conda\\envs\\scds\\lib\\site-packages (from notebook>=4.4.1->widgetsnbextension~=3.5.0->ipywidgets->ipyvtklink) (0.12.1)\n",
      "Requirement already satisfied: jinja2 in c:\\users\\sebas\\.conda\\envs\\scds\\lib\\site-packages (from notebook>=4.4.1->widgetsnbextension~=3.5.0->ipywidgets->ipyvtklink) (3.0.3)\n",
      "Requirement already satisfied: Send2Trash>=1.5.0 in c:\\users\\sebas\\.conda\\envs\\scds\\lib\\site-packages (from notebook>=4.4.1->widgetsnbextension~=3.5.0->ipywidgets->ipyvtklink) (1.8.0)\n",
      "Requirement already satisfied: prometheus-client in c:\\users\\sebas\\.conda\\envs\\scds\\lib\\site-packages (from notebook>=4.4.1->widgetsnbextension~=3.5.0->ipywidgets->ipyvtklink) (0.12.0)\n",
      "Requirement already satisfied: wcwidth in c:\\users\\sebas\\.conda\\envs\\scds\\lib\\site-packages (from prompt-toolkit!=3.0.0,!=3.0.1,<3.1.0,>=2.0.0->ipython>=4.0.0->ipywidgets->ipyvtklink) (0.2.5)\n",
      "Requirement already satisfied: six>=1.5 in c:\\users\\sebas\\.conda\\envs\\scds\\lib\\site-packages (from python-dateutil>=2.7->matplotlib>=2.0.0->vtk->pyvista==0.28.1) (1.16.0)\n",
      "Requirement already satisfied: yarl<2.0,>=1.0 in c:\\users\\sebas\\.conda\\envs\\scds\\lib\\site-packages (from aiohttp->wslink>=1.0.4->vtk->pyvista==0.28.1) (1.7.2)\n",
      "Requirement already satisfied: frozenlist>=1.1.1 in c:\\users\\sebas\\.conda\\envs\\scds\\lib\\site-packages (from aiohttp->wslink>=1.0.4->vtk->pyvista==0.28.1) (1.2.0)\n",
      "Requirement already satisfied: aiosignal>=1.1.2 in c:\\users\\sebas\\.conda\\envs\\scds\\lib\\site-packages (from aiohttp->wslink>=1.0.4->vtk->pyvista==0.28.1) (1.2.0)\n",
      "Requirement already satisfied: multidict<7.0,>=4.5 in c:\\users\\sebas\\.conda\\envs\\scds\\lib\\site-packages (from aiohttp->wslink>=1.0.4->vtk->pyvista==0.28.1) (5.2.0)\n",
      "Requirement already satisfied: async-timeout<5.0,>=4.0.0a3 in c:\\users\\sebas\\.conda\\envs\\scds\\lib\\site-packages (from aiohttp->wslink>=1.0.4->vtk->pyvista==0.28.1) (4.0.1)\n",
      "Requirement already satisfied: charset-normalizer<3.0,>=2.0 in c:\\users\\sebas\\.conda\\envs\\scds\\lib\\site-packages (from aiohttp->wslink>=1.0.4->vtk->pyvista==0.28.1) (2.0.7)\n",
      "Requirement already satisfied: typing-extensions>=3.6.5 in c:\\users\\sebas\\.conda\\envs\\scds\\lib\\site-packages (from async-timeout<5.0,>=4.0.0a3->aiohttp->wslink>=1.0.4->vtk->pyvista==0.28.1) (3.10.0.2)\n",
      "Requirement already satisfied: zipp>=3.1.0 in c:\\users\\sebas\\.conda\\envs\\scds\\lib\\site-packages (from importlib-resources>=1.4.0->jsonschema!=2.5.0,>=2.4->nbformat>=4.2.0->ipywidgets->ipyvtklink) (3.6.0)\n",
      "Requirement already satisfied: pywinpty>=1.1.0 in c:\\users\\sebas\\.conda\\envs\\scds\\lib\\site-packages (from terminado>=0.8.3->notebook>=4.4.1->widgetsnbextension~=3.5.0->ipywidgets->ipyvtklink) (1.1.5)\n",
      "Requirement already satisfied: idna>=2.0 in c:\\users\\sebas\\.conda\\envs\\scds\\lib\\site-packages (from yarl<2.0,>=1.0->aiohttp->wslink>=1.0.4->vtk->pyvista==0.28.1) (3.3)\n",
      "Requirement already satisfied: cffi>=1.0.0 in c:\\users\\sebas\\.conda\\envs\\scds\\lib\\site-packages (from argon2-cffi->notebook>=4.4.1->widgetsnbextension~=3.5.0->ipywidgets->ipyvtklink) (1.15.0)\n",
      "Requirement already satisfied: MarkupSafe>=2.0 in c:\\users\\sebas\\.conda\\envs\\scds\\lib\\site-packages (from jinja2->notebook>=4.4.1->widgetsnbextension~=3.5.0->ipywidgets->ipyvtklink) (2.0.1)\n",
      "Requirement already satisfied: jupyterlab-pygments in c:\\users\\sebas\\.conda\\envs\\scds\\lib\\site-packages (from nbconvert->notebook>=4.4.1->widgetsnbextension~=3.5.0->ipywidgets->ipyvtklink) (0.1.2)\n",
      "Requirement already satisfied: nbclient<0.6.0,>=0.5.0 in c:\\users\\sebas\\.conda\\envs\\scds\\lib\\site-packages (from nbconvert->notebook>=4.4.1->widgetsnbextension~=3.5.0->ipywidgets->ipyvtklink) (0.5.5)\n",
      "Requirement already satisfied: defusedxml in c:\\users\\sebas\\.conda\\envs\\scds\\lib\\site-packages (from nbconvert->notebook>=4.4.1->widgetsnbextension~=3.5.0->ipywidgets->ipyvtklink) (0.7.1)\n",
      "Requirement already satisfied: pandocfilters>=1.4.1 in c:\\users\\sebas\\.conda\\envs\\scds\\lib\\site-packages (from nbconvert->notebook>=4.4.1->widgetsnbextension~=3.5.0->ipywidgets->ipyvtklink) (1.5.0)\n",
      "Requirement already satisfied: bleach in c:\\users\\sebas\\.conda\\envs\\scds\\lib\\site-packages (from nbconvert->notebook>=4.4.1->widgetsnbextension~=3.5.0->ipywidgets->ipyvtklink) (4.1.0)\n",
      "Requirement already satisfied: mistune<2,>=0.8.1 in c:\\users\\sebas\\.conda\\envs\\scds\\lib\\site-packages (from nbconvert->notebook>=4.4.1->widgetsnbextension~=3.5.0->ipywidgets->ipyvtklink) (0.8.4)\n",
      "Requirement already satisfied: testpath in c:\\users\\sebas\\.conda\\envs\\scds\\lib\\site-packages (from nbconvert->notebook>=4.4.1->widgetsnbextension~=3.5.0->ipywidgets->ipyvtklink) (0.5.0)\n",
      "Requirement already satisfied: pycparser in c:\\users\\sebas\\.conda\\envs\\scds\\lib\\site-packages (from cffi>=1.0.0->argon2-cffi->notebook>=4.4.1->widgetsnbextension~=3.5.0->ipywidgets->ipyvtklink) (2.21)\n",
      "Requirement already satisfied: packaging in c:\\users\\sebas\\.conda\\envs\\scds\\lib\\site-packages (from bleach->nbconvert->notebook>=4.4.1->widgetsnbextension~=3.5.0->ipywidgets->ipyvtklink) (21.0)\n",
      "Requirement already satisfied: webencodings in c:\\users\\sebas\\.conda\\envs\\scds\\lib\\site-packages (from bleach->nbconvert->notebook>=4.4.1->widgetsnbextension~=3.5.0->ipywidgets->ipyvtklink) (0.5.1)\n"
     ]
    }
   ],
   "source": [
    "#!pip install pyvista==0.28.1 ipyvtklink"
   ]
  },
  {
   "cell_type": "code",
   "execution_count": 1,
   "metadata": {},
   "outputs": [],
   "source": [
    "import os\n",
    "import topogenesis as tg\n",
    "import pyvista as pv\n",
    "import trimesh as tm\n",
    "import pandas as pd\n",
    "import numpy as np\n",
    "np.random.seed(0)"
   ]
  },
  {
   "cell_type": "markdown",
   "metadata": {},
   "source": [
    "### 0.2. Define the Neighborhood (Stencil)"
   ]
  },
  {
   "cell_type": "code",
   "execution_count": 2,
   "metadata": {},
   "outputs": [
    {
     "name": "stdout",
     "output_type": "stream",
     "text": [
      "[[[0 0 0]\n",
      "  [0 1 0]\n",
      "  [0 0 0]]\n",
      "\n",
      " [[0 1 0]\n",
      "  [1 0 1]\n",
      "  [0 1 0]]\n",
      "\n",
      " [[0 0 0]\n",
      "  [0 1 0]\n",
      "  [0 0 0]]]\n"
     ]
    }
   ],
   "source": [
    "# creating neighborhood definition\n",
    "stencil = tg.create_stencil(\"von_neumann\", 1, 1)\n",
    "# setting the center to zero\n",
    "stencil.set_index([0,0,0], 0)\n",
    "print(stencil)"
   ]
  },
  {
   "cell_type": "markdown",
   "metadata": {},
   "source": [
    "### 0.3 Visualize the Stencil"
   ]
  },
  {
   "cell_type": "code",
   "execution_count": 20,
   "metadata": {},
   "outputs": [
    {
     "data": {
      "text/plain": [
       "<vtkmodules.vtkRenderingOpenGL2.vtkOpenGLActor(0x000001852019F4A0) at 0x000001852A582880>"
      ]
     },
     "execution_count": 20,
     "metadata": {},
     "output_type": "execute_result"
    }
   ],
   "source": [
    "# initiating the plotter\n",
    "p = pv.Plotter(notebook=True)\n",
    "\n",
    "# Create the spatial reference\n",
    "grid = pv.UniformGrid()\n",
    "\n",
    "# Set the grid dimensions: shape because we want to inject our values\n",
    "grid.dimensions = np.array(stencil.shape) + 1\n",
    "# The bottom left corner of the data set\n",
    "grid.origin = [0,0,0]\n",
    "# These are the cell sizes along each axis\n",
    "grid.spacing = [1,1,1]\n",
    "\n",
    "# Add the data values to the cell data\n",
    "grid.cell_arrays[\"values\"] = stencil.flatten(order=\"F\")  # Flatten the stencil\n",
    "threshed = grid.threshold([0.9, 1.1])\n",
    "\n",
    "# adding the voxels: light red\n",
    "p.add_mesh(threshed, show_edges=True, color=\"#ff8fa3\", opacity=0.3)\n",
    "\n",
    "# plotting\n",
    "#p.show(use_ipyvtk=True)"
   ]
  },
  {
   "cell_type": "markdown",
   "metadata": {},
   "source": [
    "## 1. Setup the Environment\n",
    "\n",
    "### 1.1. Load the envelope lattice as the avialbility lattice"
   ]
  },
  {
   "cell_type": "code",
   "execution_count": 4,
   "metadata": {},
   "outputs": [],
   "source": [
    "# loading the lattice from csv\n",
    "lattice_path = os.path.relpath('../data/voxelized_envelope.csv')\n",
    "avail_lattice = tg.lattice_from_csv(lattice_path)\n",
    "init_avail_lattice = tg.to_lattice(np.copy(avail_lattice), avail_lattice)"
   ]
  },
  {
   "cell_type": "markdown",
   "metadata": {},
   "source": [
    "### 1.2 Load Program"
   ]
  },
  {
   "cell_type": "code",
   "execution_count": 5,
   "metadata": {},
   "outputs": [
    {
     "data": {
      "text/html": [
       "<div>\n",
       "<style scoped>\n",
       "    .dataframe tbody tr th:only-of-type {\n",
       "        vertical-align: middle;\n",
       "    }\n",
       "\n",
       "    .dataframe tbody tr th {\n",
       "        vertical-align: top;\n",
       "    }\n",
       "\n",
       "    .dataframe thead th {\n",
       "        text-align: right;\n",
       "    }\n",
       "</style>\n",
       "<table border=\"1\" class=\"dataframe\">\n",
       "  <thead>\n",
       "    <tr style=\"text-align: right;\">\n",
       "      <th></th>\n",
       "      <th>space_name</th>\n",
       "      <th>space_id</th>\n",
       "      <th>str_acc</th>\n",
       "      <th>sun_acc</th>\n",
       "    </tr>\n",
       "  </thead>\n",
       "  <tbody>\n",
       "    <tr>\n",
       "      <th>0</th>\n",
       "      <td>lobby</td>\n",
       "      <td>0</td>\n",
       "      <td>1.0</td>\n",
       "      <td>0.0</td>\n",
       "    </tr>\n",
       "    <tr>\n",
       "      <th>1</th>\n",
       "      <td>roof_garden</td>\n",
       "      <td>1</td>\n",
       "      <td>0.0</td>\n",
       "      <td>1.0</td>\n",
       "    </tr>\n",
       "    <tr>\n",
       "      <th>2</th>\n",
       "      <td>workshop</td>\n",
       "      <td>2</td>\n",
       "      <td>0.5</td>\n",
       "      <td>0.5</td>\n",
       "    </tr>\n",
       "  </tbody>\n",
       "</table>\n",
       "</div>"
      ],
      "text/plain": [
       "    space_name  space_id  str_acc  sun_acc\n",
       "0        lobby         0      1.0      0.0\n",
       "1  roof_garden         1      0.0      1.0\n",
       "2     workshop         2      0.5      0.5"
      ]
     },
     "execution_count": 5,
     "metadata": {},
     "output_type": "execute_result"
    }
   ],
   "source": [
    "program_complete = pd.read_csv(\"../data/program_small.csv\")\n",
    "program_complete"
   ]
  },
  {
   "cell_type": "code",
   "execution_count": 6,
   "metadata": {},
   "outputs": [
    {
     "data": {
      "text/html": [
       "<div>\n",
       "<style scoped>\n",
       "    .dataframe tbody tr th:only-of-type {\n",
       "        vertical-align: middle;\n",
       "    }\n",
       "\n",
       "    .dataframe tbody tr th {\n",
       "        vertical-align: top;\n",
       "    }\n",
       "\n",
       "    .dataframe thead th {\n",
       "        text-align: right;\n",
       "    }\n",
       "</style>\n",
       "<table border=\"1\" class=\"dataframe\">\n",
       "  <thead>\n",
       "    <tr style=\"text-align: right;\">\n",
       "      <th></th>\n",
       "      <th>str_acc</th>\n",
       "      <th>sun_acc</th>\n",
       "    </tr>\n",
       "  </thead>\n",
       "  <tbody>\n",
       "    <tr>\n",
       "      <th>0</th>\n",
       "      <td>1.0</td>\n",
       "      <td>0.0</td>\n",
       "    </tr>\n",
       "    <tr>\n",
       "      <th>1</th>\n",
       "      <td>0.0</td>\n",
       "      <td>1.0</td>\n",
       "    </tr>\n",
       "    <tr>\n",
       "      <th>2</th>\n",
       "      <td>0.5</td>\n",
       "      <td>0.5</td>\n",
       "    </tr>\n",
       "  </tbody>\n",
       "</table>\n",
       "</div>"
      ],
      "text/plain": [
       "   str_acc  sun_acc\n",
       "0      1.0      0.0\n",
       "1      0.0      1.0\n",
       "2      0.5      0.5"
      ]
     },
     "execution_count": 6,
     "metadata": {},
     "output_type": "execute_result"
    }
   ],
   "source": [
    "program_prefs = program_complete.drop([\"space_name\",\"space_id\"], 1)\n",
    "program_prefs"
   ]
  },
  {
   "cell_type": "markdown",
   "metadata": {},
   "source": [
    "### 1.2 Load the value fields"
   ]
  },
  {
   "cell_type": "code",
   "execution_count": 7,
   "metadata": {},
   "outputs": [],
   "source": [
    "# loading the lattice from csv\n",
    "fields = {}\n",
    "for f in program_prefs.columns:\n",
    "    lattice_path = os.path.relpath('../data/' + f + '.csv')\n",
    "    fields[f] = tg.lattice_from_csv(lattice_path)"
   ]
  },
  {
   "cell_type": "markdown",
   "metadata": {},
   "source": [
    "### 1.3. Initialize the Agents"
   ]
  },
  {
   "cell_type": "code",
   "execution_count": 8,
   "metadata": {},
   "outputs": [],
   "source": [
    "# initialize the occupation lattice\n",
    "occ_lattice = avail_lattice * 0 - 1\n",
    "\n",
    "# Finding the index of the available voxels in avail_lattice\n",
    "avail_flat = avail_lattice.flatten()\n",
    "avail_index = np.array(np.where(avail_lattice == 1)).T\n",
    "\n",
    "# Randomly choosing three available voxels\n",
    "agn_num = len(program_complete)\n",
    "select_id = np.random.choice(len(avail_index), agn_num)\n",
    "agn_origins = avail_index[select_id]\n",
    "\n",
    "# adding the origins to the agents locations\n",
    "agn_locs = []\n",
    "# for each agent origin ... \n",
    "for a_id, a_origin in enumerate(agn_origins):\n",
    "\n",
    "    # add the origin to the list of agent locations\n",
    "    agn_locs.append([a_origin])\n",
    "\n",
    "    # set the origin in availablity lattice as 0 (UNavailable)\n",
    "    avail_lattice[tuple(a_origin)] = 0\n",
    "\n",
    "    # set the origin in occupation lattice as the agent id (a_id)\n",
    "    occ_lattice[tuple(a_origin)] = a_id"
   ]
  },
  {
   "cell_type": "markdown",
   "metadata": {},
   "source": [
    "### 1.4. Visualize the environment"
   ]
  },
  {
   "cell_type": "code",
   "execution_count": 22,
   "metadata": {},
   "outputs": [
    {
     "data": {
      "text/plain": [
       "<pyvista.plotting.plotting.Plotter at 0x1852a869340>"
      ]
     },
     "execution_count": 22,
     "metadata": {},
     "output_type": "execute_result"
    }
   ],
   "source": [
    "p = pv.Plotter(notebook=True)\n",
    "\n",
    "# Set the grid dimensions: shape + 1 because we want to inject our values on the CELL data\n",
    "grid = pv.UniformGrid()\n",
    "grid.dimensions = np.array(occ_lattice.shape) + 1\n",
    "# The bottom left corner of the data set\n",
    "grid.origin = occ_lattice.minbound - occ_lattice.unit * 0.5\n",
    "# These are the cell sizes along each axis\n",
    "grid.spacing = occ_lattice.unit \n",
    "\n",
    "# adding the boundingbox wireframe\n",
    "p.add_mesh(grid.outline(), color=\"grey\", label=\"Domain\")\n",
    "\n",
    "# adding axes\n",
    "p.add_axes()\n",
    "p.show_bounds(grid=\"back\", location=\"back\", color=\"#777777\")\n",
    "\n",
    "# Add the data values to the cell data\n",
    "grid.cell_arrays[\"Agents\"] = occ_lattice.flatten(order=\"F\").astype(int)  # Flatten the array!\n",
    "# filtering the voxels\n",
    "threshed = grid.threshold([-0.1, agn_num - 0.9])\n",
    "# adding the voxels\n",
    "p.add_mesh(threshed, show_edges=True, opacity=1.0, show_scalar_bar=False)\n",
    "\n",
    "# adding the availability lattice\n",
    "init_avail_lattice.fast_vis(p)\n",
    "\n",
    "#p.show(use_ipyvtk=True)"
   ]
  },
  {
   "cell_type": "markdown",
   "metadata": {},
   "source": [
    "## 2. ABM Simulation (Agent Based Space Occupation)\n",
    "\n",
    "### 2.1. Running the simulation"
   ]
  },
  {
   "cell_type": "code",
   "execution_count": 17,
   "metadata": {},
   "outputs": [],
   "source": [
    "# make a deep copy of occupation lattice\n",
    "cur_occ_lattice = tg.to_lattice(np.copy(occ_lattice), occ_lattice)\n",
    "# initialzing the list of frames\n",
    "frames = [cur_occ_lattice]\n",
    "\n",
    "# setting the time variable to 0\n",
    "t = 0\n",
    "n_frames = 30\n",
    "# main feedback loop of the simulation (for each time step ...)\n",
    "while t<n_frames:\n",
    "    # for each agent ... \n",
    "    for a_id, a_prefs in program_complete.iterrows():\n",
    "        # retrieve the list of the locations of the current agent\n",
    "        a_locs = agn_locs[a_id]\n",
    "        # initialize the list of free neighbours\n",
    "        free_neighs = []\n",
    "        # for each location of the agent\n",
    "        for loc in a_locs:\n",
    "            # retrieve the list of neighbours of the agent based on the stencil\n",
    "            neighs = avail_lattice.find_neighbours_masked(stencil, loc = loc)\n",
    "            \n",
    "            # for each neighbour ... \n",
    "            for n in neighs:\n",
    "                # compute 3D index of neighbour\n",
    "                neigh_3d_id = np.unravel_index(n, avail_lattice.shape)\n",
    "                # if the neighbour is available... \n",
    "                if avail_lattice[neigh_3d_id]:\n",
    "                    # add the neighbour to the list of free neighbours\n",
    "                    free_neighs.append(neigh_3d_id)\n",
    "        # check if found any free neighbour\n",
    "        if len(free_neighs)>0:\n",
    "            # convert free neighbours to a numpy array\n",
    "            fns = np.array(free_neighs)\n",
    "\n",
    "            # find the value of neighbours\n",
    "            # init the agent value array\n",
    "            a_eval = np.ones(len(fns))\n",
    "            # for each field...\n",
    "            for f in program_prefs.columns:\n",
    "                # find the raw value of free neighbours...\n",
    "                vals = fields[f][fns[:,0], fns[:,1], fns[:,2]]\n",
    "                # raise the the raw value to the power of preference weight of the agent\n",
    "                a_weighted_vals = vals ** a_prefs[f]\n",
    "                # multiply them to the previous weighted values\n",
    "                a_eval *= a_weighted_vals\n",
    "\n",
    "            # select the neighbour with highest evaluation\n",
    "            selected_int = np.argmax(a_eval)\n",
    "            # find 3D integer index of selected neighbour\n",
    "            selected_neigh_3d_id = free_neighs[selected_int]\n",
    "            # find the location of the newly selected neighbour\n",
    "            selected_neigh_loc = np.array(selected_neigh_3d_id).flatten()\n",
    "            # add the newly selected neighbour location to agent locations\n",
    "            agn_locs[a_id].append(selected_neigh_loc)\n",
    "            # set the newly selected neighbour as UNavailable (0) in the availability lattice\n",
    "            avail_lattice[selected_neigh_3d_id] = 0\n",
    "            # set the newly selected neighbour as OCCUPIED by current agent \n",
    "            # (-1 means not-occupied so a_id)\n",
    "            occ_lattice[selected_neigh_3d_id] = a_id\n",
    "\n",
    "    # constructing the new lattice\n",
    "    new_occ_lattice = tg.to_lattice(np.copy(occ_lattice), occ_lattice)\n",
    "    # adding the new lattice to the list of frames\n",
    "    frames.append(new_occ_lattice)\n",
    "    # adding one to the time counter\n",
    "    t += 1"
   ]
  },
  {
   "cell_type": "markdown",
   "metadata": {},
   "source": [
    "### 2.2. Visualizing the simulation"
   ]
  },
  {
   "cell_type": "code",
   "execution_count": 18,
   "metadata": {},
   "outputs": [
    {
     "data": {
      "application/vnd.jupyter.widget-view+json": {
       "model_id": "82e374c0848b4552be3a66339bd120e7",
       "version_major": 2,
       "version_minor": 0
      },
      "text/plain": [
       "ViewInteractiveWidget(height=768, layout=Layout(height='auto', width='100%'), width=1024)"
      ]
     },
     "metadata": {},
     "output_type": "display_data"
    },
    {
     "data": {
      "text/plain": [
       "[(247.21077512227743, 152.21077512227743, 232.21077512227743),\n",
       " (35.0, -60.0, 20.0),\n",
       " (0.0, 0.0, 1.0)]"
      ]
     },
     "execution_count": 18,
     "metadata": {},
     "output_type": "execute_result"
    }
   ],
   "source": [
    "p = pv.Plotter(notebook=True)\n",
    "\n",
    "base_lattice = frames[0]\n",
    "\n",
    "# Set the grid dimensions: shape + 1 because we want to inject our values on the CELL data\n",
    "grid = pv.UniformGrid()\n",
    "grid.dimensions = np.array(base_lattice.shape) + 1\n",
    "# The bottom left corner of the data set\n",
    "grid.origin = base_lattice.minbound - base_lattice.unit * 0.5\n",
    "# These are the cell sizes along each axis\n",
    "grid.spacing = base_lattice.unit \n",
    "\n",
    "# adding the boundingbox wireframe\n",
    "p.add_mesh(grid.outline(), color=\"grey\", label=\"Domain\")\n",
    "\n",
    "# adding the availability lattice\n",
    "init_avail_lattice.fast_vis(p)\n",
    "\n",
    "# adding axes\n",
    "p.add_axes()\n",
    "p.show_bounds(grid=\"back\", location=\"back\", color=\"#aaaaaa\")\n",
    "\n",
    "def create_mesh(value):\n",
    "    f = int(value)\n",
    "    lattice = frames[f]\n",
    "\n",
    "    # Add the data values to the cell data\n",
    "    grid.cell_arrays[\"Agents\"] = lattice.flatten(order=\"F\").astype(int)  # Flatten the array!\n",
    "    # filtering the voxels\n",
    "    threshed = grid.threshold([-0.1, agn_num - 0.9])\n",
    "    # adding the voxels\n",
    "    p.add_mesh(threshed, name='sphere', show_edges=True, opacity=1.0, show_scalar_bar=False)\n",
    "\n",
    "    return\n",
    "\n",
    "p.add_slider_widget(create_mesh, [0, n_frames], title='Time', value=0, event_type=\"always\", style=\"classic\")\n",
    "p.show(use_ipyvtk=True)"
   ]
  },
  {
   "cell_type": "markdown",
   "metadata": {},
   "source": [
    "### 2.3. Saving lattice frames in CSV"
   ]
  },
  {
   "cell_type": "code",
   "execution_count": null,
   "metadata": {},
   "outputs": [],
   "source": [
    "for i, lattice in enumerate(frames):\n",
    "    csv_path = os.path.relpath('../data/abm_animation/abm_f_'+ f'{i:03}' + '.csv')\n",
    "    lattice.to_csv(csv_path)"
   ]
  },
  {
   "cell_type": "markdown",
   "metadata": {},
   "source": [
    "### Credits"
   ]
  },
  {
   "cell_type": "code",
   "execution_count": null,
   "metadata": {},
   "outputs": [],
   "source": [
    "__author__ = \"Shervin Azadi \"\n",
    "__license__ = \"MIT\"\n",
    "__version__ = \"1.0\"\n",
    "__url__ = \"https://github.com/shervinazadi/spatial_computing_workshops\"\n",
    "__summary__ = \"Spatial Computing Design Studio Workshop on Agent Based Models for Generative Spaces\""
   ]
  }
 ],
 "metadata": {
  "kernelspec": {
   "display_name": "Python 3.8.5 64-bit ('sc_workshops': conda)",
   "metadata": {
    "interpreter": {
     "hash": "787ea478c22349cf73d867deb0a19fc58e75e9742a9aed6f48d06cc412ad6e3b"
    }
   },
   "name": "python3"
  },
  "language_info": {
   "codemirror_mode": {
    "name": "ipython",
    "version": 3
   },
   "file_extension": ".py",
   "mimetype": "text/x-python",
   "name": "python",
   "nbconvert_exporter": "python",
   "pygments_lexer": "ipython3",
   "version": "3.8.5"
  }
 },
 "nbformat": 4,
 "nbformat_minor": 2
}
